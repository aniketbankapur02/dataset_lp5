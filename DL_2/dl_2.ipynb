{
 "cells": [
  {
   "cell_type": "code",
   "execution_count": 1,
   "id": "ebce428e-1ad2-47cb-b625-ad8d755b9894",
   "metadata": {},
   "outputs": [],
   "source": [
    "import tensorflow as tf\n",
    "from tensorflow.keras.datasets import imdb\n",
    "from tensorflow.keras.models import Sequential\n",
    "from tensorflow.keras.layers import Dense, Embedding, GlobalAveragePooling1D\n",
    "from tensorflow.keras.preprocessing.sequence import pad_sequences\n",
    "from tensorflow import keras\n",
    "import numpy as np\n",
    "from tensorflow.keras import layers"
   ]
  },
  {
   "cell_type": "code",
   "execution_count": 3,
   "id": "4de24c53-39c2-44c0-981e-c43f9a521a20",
   "metadata": {},
   "outputs": [
    {
     "name": "stdout",
     "output_type": "stream",
     "text": [
      "Downloading data from https://storage.googleapis.com/tensorflow/tf-keras-datasets/imdb.npz\n",
      "17464789/17464789 [==============================] - 3s 0us/step\n"
     ]
    }
   ],
   "source": [
    "# Load the IMDB dataset\n",
    "max_features = 200000\n",
    "maxlen = 256\n",
    "(train_data, train_labels), (test_data, test_labels) = imdb.load_data(num_words=max_features)"
   ]
  },
  {
   "cell_type": "code",
   "execution_count": 4,
   "id": "ae360e43-9817-4245-bc77-650815af6eb9",
   "metadata": {},
   "outputs": [
    {
     "name": "stdout",
     "output_type": "stream",
     "text": [
      "Downloading data from https://storage.googleapis.com/tensorflow/tf-keras-datasets/imdb_word_index.json\n",
      "1641221/1641221 [==============================] - 0s 0us/step\n"
     ]
    }
   ],
   "source": [
    "# Load the IMDB word index\n",
    "word_index = imdb.get_word_index()"
   ]
  },
  {
   "cell_type": "code",
   "execution_count": 5,
   "id": "342b4a8b-cbb3-4d7f-88b5-9f807ecc5b94",
   "metadata": {},
   "outputs": [],
   "source": [
    "# Reverse the word index to map indices to words\n",
    "reverse_word_index = dict([(value, key) for (key, value) in word_index.items()])"
   ]
  },
  {
   "cell_type": "code",
   "execution_count": 6,
   "id": "98cb0054-aab6-46e5-8b96-3f502f8fa608",
   "metadata": {},
   "outputs": [],
   "source": [
    "# Pad sequences to a fixed length\n",
    "max_length = 256\n",
    "train_data = keras.preprocessing.sequence.pad_sequences(train_data, value=0, padding='post', maxlen=max_length)\n",
    "test_data = keras.preprocessing.sequence.pad_sequences(test_data, value=0, padding='post', maxlen=max_length)"
   ]
  },
  {
   "cell_type": "code",
   "execution_count": 7,
   "id": "ef4092cd-5767-42f2-aed4-3cdab586ea92",
   "metadata": {},
   "outputs": [],
   "source": [
    "# Convert train_data and test_data to numpy arrays\n",
    "train_data = np.array(train_data)\n",
    "test_data = np.array(test_data)"
   ]
  },
  {
   "cell_type": "code",
   "execution_count": 8,
   "id": "ebaa35b1-eb3c-4d74-a9d7-9d05d867d5ea",
   "metadata": {},
   "outputs": [],
   "source": [
    "# Build and compile the model\n",
    "model = keras.Sequential([\n",
    "    layers.Embedding(input_dim=200000, output_dim=16),\n",
    "    layers.GlobalAveragePooling1D(),\n",
    "    layers.Dense(16, activation='relu'),\n",
    "    layers.Dense(1, activation='sigmoid')\n",
    "])"
   ]
  },
  {
   "cell_type": "code",
   "execution_count": 9,
   "id": "0412f06f-c6ac-43f5-ba4b-10b579b3ceec",
   "metadata": {},
   "outputs": [],
   "source": [
    "model.compile(optimizer='adam', loss='binary_crossentropy', metrics=['accuracy'])\n"
   ]
  },
  {
   "cell_type": "code",
   "execution_count": 10,
   "id": "3bbd1339-2bc6-4249-9a34-5d4b9bfef053",
   "metadata": {},
   "outputs": [
    {
     "name": "stdout",
     "output_type": "stream",
     "text": [
      "Epoch 1/10\n",
      "40/40 [==============================] - 4s 73ms/step - loss: 0.6921 - accuracy: 0.6297 - val_loss: 0.6894 - val_accuracy: 0.6808\n",
      "Epoch 2/10\n",
      "40/40 [==============================] - 3s 68ms/step - loss: 0.6853 - accuracy: 0.7163 - val_loss: 0.6792 - val_accuracy: 0.7638\n",
      "Epoch 3/10\n",
      "40/40 [==============================] - 3s 65ms/step - loss: 0.6699 - accuracy: 0.7718 - val_loss: 0.6582 - val_accuracy: 0.7700\n",
      "Epoch 4/10\n",
      "40/40 [==============================] - 2s 61ms/step - loss: 0.6414 - accuracy: 0.8002 - val_loss: 0.6242 - val_accuracy: 0.7876\n",
      "Epoch 5/10\n",
      "40/40 [==============================] - 2s 61ms/step - loss: 0.5986 - accuracy: 0.8189 - val_loss: 0.5785 - val_accuracy: 0.8098\n",
      "Epoch 6/10\n",
      "40/40 [==============================] - 3s 67ms/step - loss: 0.5441 - accuracy: 0.8413 - val_loss: 0.5270 - val_accuracy: 0.8172\n",
      "Epoch 7/10\n",
      "40/40 [==============================] - 3s 70ms/step - loss: 0.4856 - accuracy: 0.8561 - val_loss: 0.4774 - val_accuracy: 0.8338\n",
      "Epoch 8/10\n",
      "40/40 [==============================] - 3s 68ms/step - loss: 0.4306 - accuracy: 0.8720 - val_loss: 0.4351 - val_accuracy: 0.8446\n",
      "Epoch 9/10\n",
      "40/40 [==============================] - 3s 67ms/step - loss: 0.3823 - accuracy: 0.8870 - val_loss: 0.4004 - val_accuracy: 0.8594\n",
      "Epoch 10/10\n",
      "40/40 [==============================] - 3s 70ms/step - loss: 0.3417 - accuracy: 0.8968 - val_loss: 0.3727 - val_accuracy: 0.8632\n"
     ]
    }
   ],
   "source": [
    "# Train the model\n",
    "history = model.fit(train_data, train_labels, epochs=10, batch_size=512, validation_split=0.2)"
   ]
  },
  {
   "cell_type": "code",
   "execution_count": 11,
   "id": "e51a9822-7268-460f-a9e5-517448db31bb",
   "metadata": {},
   "outputs": [
    {
     "name": "stdout",
     "output_type": "stream",
     "text": [
      "782/782 [==============================] - 1s 1ms/step - loss: 0.3857 - accuracy: 0.8578\n",
      "\n",
      "Test Accuracy: 0.8577600121498108\n"
     ]
    }
   ],
   "source": [
    "# Evaluate the model\n",
    "test_loss, test_acc = model.evaluate(test_data, test_labels)\n",
    "print(\"\\nTest Accuracy:\", test_acc)"
   ]
  },
  {
   "cell_type": "code",
   "execution_count": 12,
   "id": "c3559531-0a2b-4636-98b1-68765fc4c1c5",
   "metadata": {},
   "outputs": [
    {
     "name": "stdout",
     "output_type": "stream",
     "text": [
      "782/782 [==============================] - 1s 1ms/step\n"
     ]
    }
   ],
   "source": [
    "# Predict sentiment for test reviews\n",
    "predictions = model.predict(test_data)"
   ]
  },
  {
   "cell_type": "code",
   "execution_count": 13,
   "id": "ebd40dc5-b05c-41ee-b844-fa8b0d4ba94f",
   "metadata": {},
   "outputs": [],
   "source": [
    "# Filter out positive and negative reviews\n",
    "positive_reviews = []\n",
    "negative_reviews = []"
   ]
  },
  {
   "cell_type": "code",
   "execution_count": 14,
   "id": "658ed7ea-70ff-4c3e-8a79-aef1877d4a4b",
   "metadata": {},
   "outputs": [],
   "source": [
    "threshold = 0.45"
   ]
  },
  {
   "cell_type": "code",
   "execution_count": 15,
   "id": "ab56d70a-1034-4d3d-b99d-8e4e19c38838",
   "metadata": {},
   "outputs": [],
   "source": [
    "for review, prediction in zip(test_data, predictions):\n",
    "    review_text = ' '.join([reverse_word_index.get(idx - 3, '?') for idx in review])\n",
    "    if prediction >= threshold:\n",
    "        positive_reviews.append((review_text, prediction))\n",
    "    else:\n",
    "        negative_reviews.append((review_text, prediction))"
   ]
  },
  {
   "cell_type": "code",
   "execution_count": 16,
   "id": "1bd73e2c-b3a9-4e3c-890d-c66ade885be6",
   "metadata": {},
   "outputs": [
    {
     "name": "stdout",
     "output_type": "stream",
     "text": [
      "Positive Reviews:\n",
      "Review: a lot of patience because it focuses on mood and character development the plot is very simple and many of the scenes take place on the same set in frances austen's the sandy dennis character apartment but the film builds to a disturbing climax br br the characters create an atmosphere rife with sexual tension and psychological trickery it's very interesting that robert altman directed this considering the style and structure of his other films still the trademark altman audio style is evident here and there i think what really makes this film work is the brilliant performance by sandy dennis it's definitely one of her darker characters but she plays it so perfectly and convincingly that it's scary michael burns does a good job as the mute young man regular altman player michael murphy has a small part the solemn moody set fits the content of the story very well in short this movie is a powerful study of loneliness sexual repression and desperation be patient soak up the atmosphere and pay attention to the wonderfully written script br br i praise robert altman this is one of his many films that deals with unconventional fascinating subject matter this film is disturbing but it's sincere and it's sure to elicit a strong emotional response from the viewer if you want to see an unusual film some might even say bizarre this is worth the time br br unfortunately it's very difficult to find in video stores you may have to buy it off the internet\n",
      "Prediction: [0.9555281]\n",
      "\n"
     ]
    }
   ],
   "source": [
    "# Print a few positive reviews\n",
    "print(\"Positive Reviews:\")\n",
    "for review, prediction in positive_reviews[:1]:\n",
    "    print(\"Review:\", review)\n",
    "    print(\"Prediction:\", prediction)\n",
    "    print()"
   ]
  },
  {
   "cell_type": "code",
   "execution_count": 17,
   "id": "b9840eb0-eb6f-4589-b64f-270e61f0fe19",
   "metadata": {},
   "outputs": [
    {
     "name": "stdout",
     "output_type": "stream",
     "text": [
      "Negative Reviews:\n",
      "Review: ? please give this one a miss br br kristy swanson and the rest of the cast rendered terrible performances the show is flat flat flat br br i don't know how michael madison could have allowed this one on his plate he almost seemed to know this wasn't going to work out and his performance was quite lacklustre so all you madison fans give this a miss ? ? ? ? ? ? ? ? ? ? ? ? ? ? ? ? ? ? ? ? ? ? ? ? ? ? ? ? ? ? ? ? ? ? ? ? ? ? ? ? ? ? ? ? ? ? ? ? ? ? ? ? ? ? ? ? ? ? ? ? ? ? ? ? ? ? ? ? ? ? ? ? ? ? ? ? ? ? ? ? ? ? ? ? ? ? ? ? ? ? ? ? ? ? ? ? ? ? ? ? ? ? ? ? ? ? ? ? ? ? ? ? ? ? ? ? ? ? ? ? ? ? ? ? ? ? ? ? ? ? ? ? ? ? ? ? ? ? ? ? ? ? ? ? ? ? ? ? ? ? ? ? ? ? ? ? ? ? ? ? ? ? ? ? ? ? ? ? ? ? ? ? ? ? ? ? ? ? ? ? ? ? ? ? ? ? ? ?\n",
      "Prediction: [0.35042036]\n",
      "\n"
     ]
    }
   ],
   "source": [
    "# Print a few negative reviews\n",
    "print(\"Negative Reviews:\")\n",
    "for review, prediction in negative_reviews[:1]:\n",
    "    print(\"Review:\", review)\n",
    "    print(\"Prediction:\", prediction)\n",
    "    print()"
   ]
  },
  {
   "cell_type": "code",
   "execution_count": null,
   "id": "e2b7ae61-5910-4597-bcf1-7474e6b83d7f",
   "metadata": {},
   "outputs": [],
   "source": []
  },
  {
   "cell_type": "code",
   "execution_count": null,
   "id": "a756ad99-1ad9-4b6d-b7b5-5ed494d9dd10",
   "metadata": {},
   "outputs": [],
   "source": []
  },
  {
   "cell_type": "code",
   "execution_count": null,
   "id": "0bba4464-c70a-4c21-b85e-c4b146007b5d",
   "metadata": {},
   "outputs": [],
   "source": []
  },
  {
   "cell_type": "code",
   "execution_count": null,
   "id": "7f94d15c-16ca-442a-955b-fd9dd3b06c15",
   "metadata": {},
   "outputs": [],
   "source": []
  }
 ],
 "metadata": {
  "kernelspec": {
   "display_name": "Python 3 (ipykernel)",
   "language": "python",
   "name": "python3"
  },
  "language_info": {
   "codemirror_mode": {
    "name": "ipython",
    "version": 3
   },
   "file_extension": ".py",
   "mimetype": "text/x-python",
   "name": "python",
   "nbconvert_exporter": "python",
   "pygments_lexer": "ipython3",
   "version": "3.8.19"
  }
 },
 "nbformat": 4,
 "nbformat_minor": 5
}

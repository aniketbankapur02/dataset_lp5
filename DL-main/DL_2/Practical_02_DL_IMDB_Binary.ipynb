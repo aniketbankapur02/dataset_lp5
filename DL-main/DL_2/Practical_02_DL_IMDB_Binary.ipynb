{
 "cells": [
  {
   "cell_type": "code",
   "execution_count": 68,
   "id": "0288a9cb",
   "metadata": {},
   "outputs": [],
   "source": [
    "import tensorflow as tf\n",
    "from tensorflow.keras.datasets import imdb\n",
    "from tensorflow.keras.models import Sequential\n",
    "from tensorflow.keras.layers import Dense, Embedding, GlobalAveragePooling1D\n",
    "from tensorflow.keras.preprocessing.sequence import pad_sequences\n",
    "from tensorflow import keras\n",
    "import numpy as np\n",
    "from tensorflow.keras import layers"
   ]
  },
  {
   "cell_type": "code",
   "execution_count": 69,
   "id": "3b489a4d",
   "metadata": {},
   "outputs": [],
   "source": [
    "# Load the IMDB dataset\n",
    "max_features = 200000\n",
    "maxlen = 256\n",
    "(train_data, train_labels), (test_data, test_labels) = imdb.load_data(num_words=max_features)"
   ]
  },
  {
   "cell_type": "code",
   "execution_count": 70,
   "id": "d8edd786",
   "metadata": {},
   "outputs": [],
   "source": [
    "# Load the IMDB word index\n",
    "word_index = imdb.get_word_index()"
   ]
  },
  {
   "cell_type": "code",
   "execution_count": 71,
   "id": "65eb0fa0",
   "metadata": {},
   "outputs": [],
   "source": [
    "# Reverse the word index to map indices to words\n",
    "reverse_word_index = dict([(value, key) for (key, value) in word_index.items()])"
   ]
  },
  {
   "cell_type": "code",
   "execution_count": 72,
   "id": "c37d3007",
   "metadata": {},
   "outputs": [],
   "source": [
    "# Pad sequences to a fixed length\n",
    "max_length = 256\n",
    "train_data = keras.preprocessing.sequence.pad_sequences(train_data, value=0, padding='post', maxlen=max_length)\n",
    "test_data = keras.preprocessing.sequence.pad_sequences(test_data, value=0, padding='post', maxlen=max_length)"
   ]
  },
  {
   "cell_type": "code",
   "execution_count": 73,
   "id": "d057a95c",
   "metadata": {},
   "outputs": [],
   "source": [
    "# Convert train_data and test_data to numpy arrays\n",
    "train_data = np.array(train_data)\n",
    "test_data = np.array(test_data)"
   ]
  },
  {
   "cell_type": "code",
   "execution_count": 74,
   "id": "d5d012f8",
   "metadata": {},
   "outputs": [],
   "source": [
    "# Build and compile the model\n",
    "model = keras.Sequential([\n",
    "    layers.Embedding(input_dim=200000, output_dim=16),\n",
    "    layers.GlobalAveragePooling1D(),\n",
    "    layers.Dense(16, activation='relu'),\n",
    "    layers.Dense(1, activation='sigmoid')\n",
    "])"
   ]
  },
  {
   "cell_type": "code",
   "execution_count": 75,
   "id": "836f145e",
   "metadata": {},
   "outputs": [],
   "source": [
    "model.compile(optimizer='adam', loss='binary_crossentropy', metrics=['accuracy'])\n"
   ]
  },
  {
   "cell_type": "code",
   "execution_count": 76,
   "id": "8f08cf29",
   "metadata": {},
   "outputs": [
    {
     "name": "stdout",
     "output_type": "stream",
     "text": [
      "Epoch 1/10\n",
      "40/40 [==============================] - 4s 73ms/step - loss: 0.6909 - accuracy: 0.5360 - val_loss: 0.6863 - val_accuracy: 0.7598\n",
      "Epoch 2/10\n",
      "40/40 [==============================] - 2s 57ms/step - loss: 0.6789 - accuracy: 0.7426 - val_loss: 0.6682 - val_accuracy: 0.7480\n",
      "Epoch 3/10\n",
      "40/40 [==============================] - 2s 55ms/step - loss: 0.6528 - accuracy: 0.7653 - val_loss: 0.6341 - val_accuracy: 0.7852\n",
      "Epoch 4/10\n",
      "40/40 [==============================] - 2s 61ms/step - loss: 0.6068 - accuracy: 0.8141 - val_loss: 0.5827 - val_accuracy: 0.8054\n",
      "Epoch 5/10\n",
      "40/40 [==============================] - 2s 62ms/step - loss: 0.5449 - accuracy: 0.8399 - val_loss: 0.5239 - val_accuracy: 0.8176\n",
      "Epoch 6/10\n",
      "40/40 [==============================] - 3s 64ms/step - loss: 0.4774 - accuracy: 0.8613 - val_loss: 0.4671 - val_accuracy: 0.8394\n",
      "Epoch 7/10\n",
      "40/40 [==============================] - 2s 53ms/step - loss: 0.4146 - accuracy: 0.8768 - val_loss: 0.4199 - val_accuracy: 0.8554\n",
      "Epoch 8/10\n",
      "40/40 [==============================] - 2s 62ms/step - loss: 0.3619 - accuracy: 0.8945 - val_loss: 0.3840 - val_accuracy: 0.8644\n",
      "Epoch 9/10\n",
      "40/40 [==============================] - 2s 53ms/step - loss: 0.3187 - accuracy: 0.9056 - val_loss: 0.3580 - val_accuracy: 0.8674\n",
      "Epoch 10/10\n",
      "40/40 [==============================] - 2s 60ms/step - loss: 0.2838 - accuracy: 0.9143 - val_loss: 0.3367 - val_accuracy: 0.8744\n"
     ]
    }
   ],
   "source": [
    "# Train the model\n",
    "history = model.fit(train_data, train_labels, epochs=10, batch_size=512, validation_split=0.2)"
   ]
  },
  {
   "cell_type": "code",
   "execution_count": 77,
   "id": "cba11763",
   "metadata": {},
   "outputs": [
    {
     "name": "stdout",
     "output_type": "stream",
     "text": [
      "782/782 [==============================] - 3s 3ms/step - loss: 0.3520 - accuracy: 0.8628\n",
      "\n",
      "Test Accuracy: 0.8628000020980835\n"
     ]
    }
   ],
   "source": [
    "# Evaluate the model\n",
    "test_loss, test_acc = model.evaluate(test_data, test_labels)\n",
    "print(\"\\nTest Accuracy:\", test_acc)"
   ]
  },
  {
   "cell_type": "code",
   "execution_count": 78,
   "id": "fde0c786",
   "metadata": {},
   "outputs": [
    {
     "name": "stdout",
     "output_type": "stream",
     "text": [
      "782/782 [==============================] - 3s 3ms/step\n"
     ]
    }
   ],
   "source": [
    "# Predict sentiment for test reviews\n",
    "predictions = model.predict(test_data)"
   ]
  },
  {
   "cell_type": "code",
   "execution_count": 79,
   "id": "9b22365d",
   "metadata": {},
   "outputs": [],
   "source": [
    "# Filter out positive and negative reviews\n",
    "positive_reviews = []\n",
    "negative_reviews = []"
   ]
  },
  {
   "cell_type": "code",
   "execution_count": 84,
   "id": "4e56e82e",
   "metadata": {},
   "outputs": [],
   "source": [
    "threshold = 0.45"
   ]
  },
  {
   "cell_type": "code",
   "execution_count": 85,
   "id": "b7047d7e",
   "metadata": {},
   "outputs": [],
   "source": [
    "for review, prediction in zip(test_data, predictions):\n",
    "    review_text = ' '.join([reverse_word_index.get(idx - 3, '?') for idx in review])\n",
    "    if prediction >= threshold:\n",
    "        positive_reviews.append((review_text, prediction))\n",
    "    else:\n",
    "        negative_reviews.append((review_text, prediction))"
   ]
  },
  {
   "cell_type": "code",
   "execution_count": 86,
   "id": "bbbc3edc",
   "metadata": {},
   "outputs": [
    {
     "name": "stdout",
     "output_type": "stream",
     "text": [
      "Positive Reviews:\n",
      "Review: a lot of patience because it focuses on mood and character development the plot is very simple and many of the scenes take place on the same set in frances austen's the sandy dennis character apartment but the film builds to a disturbing climax br br the characters create an atmosphere rife with sexual tension and psychological trickery it's very interesting that robert altman directed this considering the style and structure of his other films still the trademark altman audio style is evident here and there i think what really makes this film work is the brilliant performance by sandy dennis it's definitely one of her darker characters but she plays it so perfectly and convincingly that it's scary michael burns does a good job as the mute young man regular altman player michael murphy has a small part the solemn moody set fits the content of the story very well in short this movie is a powerful study of loneliness sexual repression and desperation be patient soak up the atmosphere and pay attention to the wonderfully written script br br i praise robert altman this is one of his many films that deals with unconventional fascinating subject matter this film is disturbing but it's sincere and it's sure to elicit a strong emotional response from the viewer if you want to see an unusual film some might even say bizarre this is worth the time br br unfortunately it's very difficult to find in video stores you may have to buy it off the internet\n",
      "Prediction: [0.9699802]\n",
      "\n"
     ]
    }
   ],
   "source": [
    "# Print a few positive reviews\n",
    "print(\"Positive Reviews:\")\n",
    "for review, prediction in positive_reviews[:1]:\n",
    "    print(\"Review:\", review)\n",
    "    print(\"Prediction:\", prediction)\n",
    "    print()"
   ]
  },
  {
   "cell_type": "code",
   "execution_count": 87,
   "id": "25df18b1",
   "metadata": {},
   "outputs": [
    {
     "name": "stdout",
     "output_type": "stream",
     "text": [
      "Negative Reviews:\n",
      "Review: ? please give this one a miss br br kristy swanson and the rest of the cast rendered terrible performances the show is flat flat flat br br i don't know how michael madison could have allowed this one on his plate he almost seemed to know this wasn't going to work out and his performance was quite lacklustre so all you madison fans give this a miss ? ? ? ? ? ? ? ? ? ? ? ? ? ? ? ? ? ? ? ? ? ? ? ? ? ? ? ? ? ? ? ? ? ? ? ? ? ? ? ? ? ? ? ? ? ? ? ? ? ? ? ? ? ? ? ? ? ? ? ? ? ? ? ? ? ? ? ? ? ? ? ? ? ? ? ? ? ? ? ? ? ? ? ? ? ? ? ? ? ? ? ? ? ? ? ? ? ? ? ? ? ? ? ? ? ? ? ? ? ? ? ? ? ? ? ? ? ? ? ? ? ? ? ? ? ? ? ? ? ? ? ? ? ? ? ? ? ? ? ? ? ? ? ? ? ? ? ? ? ? ? ? ? ? ? ? ? ? ? ? ? ? ? ? ? ? ? ? ? ? ? ? ? ? ? ? ? ? ? ? ? ? ? ? ? ? ? ?\n",
      "Prediction: [0.28869343]\n",
      "\n"
     ]
    }
   ],
   "source": [
    "# Print a few negative reviews\n",
    "print(\"Negative Reviews:\")\n",
    "for review, prediction in negative_reviews[:1]:\n",
    "    print(\"Review:\", review)\n",
    "    print(\"Prediction:\", prediction)\n",
    "    print()"
   ]
  },
  {
   "cell_type": "code",
   "execution_count": null,
   "id": "688044ea",
   "metadata": {},
   "outputs": [],
   "source": []
  },
  {
   "cell_type": "code",
   "execution_count": null,
   "id": "a2e742be",
   "metadata": {},
   "outputs": [],
   "source": []
  },
  {
   "cell_type": "code",
   "execution_count": null,
   "id": "2cb23fc3",
   "metadata": {},
   "outputs": [],
   "source": []
  }
 ],
 "metadata": {
  "kernelspec": {
   "display_name": "Python 3 (ipykernel)",
   "language": "python",
   "name": "python3"
  },
  "language_info": {
   "codemirror_mode": {
    "name": "ipython",
    "version": 3
   },
   "file_extension": ".py",
   "mimetype": "text/x-python",
   "name": "python",
   "nbconvert_exporter": "python",
   "pygments_lexer": "ipython3",
   "version": "3.8.19"
  }
 },
 "nbformat": 4,
 "nbformat_minor": 5
}
